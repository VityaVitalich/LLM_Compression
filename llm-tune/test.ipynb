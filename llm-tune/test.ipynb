{
 "cells": [
  {
   "cell_type": "code",
   "execution_count": 1,
   "metadata": {},
   "outputs": [
    {
     "name": "stderr",
     "output_type": "stream",
     "text": [
      "/opt/conda/lib/python3.10/site-packages/tqdm/auto.py:21: TqdmWarning: IProgress not found. Please update jupyter and ipywidgets. See https://ipywidgets.readthedocs.io/en/stable/user_install.html\n",
      "  from .autonotebook import tqdm as notebook_tqdm\n"
     ]
    }
   ],
   "source": [
    "from argparse import ArgumentParser\n",
    "import logging\n",
    "import math\n",
    "import os\n",
    "import random\n",
    "import shutil\n",
    "from pathlib import Path\n",
    "\n",
    "from dataclasses import dataclass, field\n",
    "from typing import Optional, Dict, Sequence\n",
    "\n",
    "import datasets\n",
    "import torch\n",
    "import torch.nn as nn\n",
    "import torch.nn.functional as F\n",
    "\n",
    "from functools import partial\n",
    "from accelerate import Accelerator\n",
    "from accelerate.checkpointing import save_accelerator_state\n",
    "from accelerate.logging import get_logger\n",
    "from accelerate.utils import set_seed\n",
    "from datasets import load_dataset\n",
    "from torch.utils.data import DataLoader\n",
    "from tqdm.auto import tqdm\n",
    "\n",
    "# import sys \n",
    "# sys.path.append(\"/home/projects/LLM_compression_transformers/LLM_Compression/transformers_modified/src\")\n",
    "\n",
    "import transformers\n",
    "from transformers import (\n",
    "    AutoModelForCausalLM,\n",
    "    AutoTokenizer,\n",
    "    LlamaTokenizer,\n",
    "    LlamaTokenizerFast,\n",
    "    Trainer,\n",
    "    DataCollatorForSeq2Seq,\n",
    "    TrainingArguments\n",
    ")\n",
    "from peft import (\n",
    "    get_peft_model,\n",
    "    TaskType,\n",
    "    LoraConfig\n",
    ")\n",
    "\n",
    "\n",
    "\n",
    "from quant_utils import prepare_llama_quant\n",
    "\n",
    "IGNORE_INDEX = -100\n",
    "\n",
    "\n",
    "@dataclass\n",
    "class ModelArguments:\n",
    "    \"\"\"\n",
    "    Arguments pertaining to which model/config/tokenizer we are going to fine-tune, or train from scratch.\n",
    "    \"\"\"\n",
    "    model_name_or_path: Optional[str] = field(\n",
    "        default=None,\n",
    "        metadata={\n",
    "            \"help\": (\n",
    "                \"The model checkpoint for weights initialization. Don't set if you want to train a model from scratch.\"\n",
    "            )\n",
    "        },\n",
    "    )\n",
    "    config_name: Optional[str] = field(\n",
    "        default=None, metadata={\"help\": \"Pretrained config name or path if not the same as model_name\"}\n",
    "    )\n",
    "    tokenizer_name: Optional[str] = field(\n",
    "        default=None, metadata={\"help\": \"Pretrained tokenizer name or path if not the same as model_name\"}\n",
    "    )\n",
    "    cache_dir: Optional[str] = field(\n",
    "        default=None,\n",
    "        metadata={\"help\": \"Where do you want to store the pretrained models downloaded from huggingface.co\"},\n",
    "    )\n",
    "    use_fast_tokenizer: bool = field(\n",
    "        default=False,\n",
    "        metadata={\"help\": \"Whether to use one of the fast tokenizer (backed by the tokenizers library) or not.\"},\n",
    "    )\n",
    "    model_revision: str = field(\n",
    "        default=\"main\",\n",
    "        metadata={\"help\": \"The specific model version to use (can be a branch name, tag name or commit id).\"},\n",
    "    )\n",
    "    token: str = field(\n",
    "        default=None,\n",
    "        metadata={\n",
    "            \"help\": (\n",
    "                \"The token to use as HTTP bearer authorization for remote files. If not specified, will use the token \"\n",
    "                \"generated when running `huggingface-cli login` (stored in `~/.huggingface`).\"\n",
    "            )\n",
    "        },\n",
    "    )\n",
    "    trust_remote_code: bool = field(\n",
    "        default=False,\n",
    "        metadata={\n",
    "            \"help\": (\n",
    "                \"Whether or not to allow for custom models defined on the Hub in their own modeling files. This option\"\n",
    "                \"should only be set to `True` for repositories you trust and in which you have read the code, as it will \"\n",
    "                \"execute code present on the Hub on your local machine.\"\n",
    "            )\n",
    "        },\n",
    "    )\n",
    "    torch_dtype: Optional[str] = field(\n",
    "        default=None,\n",
    "        metadata={\n",
    "            \"help\": (\n",
    "                \"Override the default `torch.dtype` and load the model under this dtype. If `auto` is passed, the \"\n",
    "                \"dtype will be automatically derived from the model's weights.\"\n",
    "            ),\n",
    "            \"choices\": [\"auto\", \"bfloat16\", \"float16\", \"float32\"],\n",
    "        },\n",
    "    )\n",
    "    max_memory: int = field(\n",
    "        default=21,\n",
    "        metadata={\"help\": \"Free memory per gpu.\"}\n",
    "    )\n",
    "    lora_init: bool = field(\n",
    "        default=False,\n",
    "        metadata={\"help\": \"True: Use zero and gaussian initialization; False: Load adapters from LoftQ in HF hub.\"},\n",
    "    )\n",
    "    rank: int = field(\n",
    "        default=64,\n",
    "        metadata={\"help\": \"Rank of LoRA adapters. LoftQ does not require this config. Used for fp16 LoRA or QLoRA.\"},\n",
    "    )\n",
    "    lora_alpha: int = field(\n",
    "        default=16,\n",
    "        metadata={\"help\": \"LoftQ does not require this config. Used for QLoRA.\"},\n",
    "    )\n",
    "    quant_noise_config: dict = field(\n",
    "        default=None,\n",
    "        metadata={\"help\": \"Parameters to add noise\"},\n",
    "    )\n",
    "\n",
    "@dataclass\n",
    "class DataTrainingArguments:\n",
    "    \"\"\"\n",
    "    Arguments pertaining to what data we are going to input our model for training and eval.\n",
    "    \"\"\"\n",
    "\n",
    "    dataset_name: Optional[str] = field(\n",
    "        default=None, metadata={\"help\": \"The name of the dataset to use (via the datasets library).\"}\n",
    "    )\n",
    "    dataset_config_name: Optional[str] = field(\n",
    "        default=None, metadata={\"help\": \"The configuration name of the dataset to use (via the datasets library).\"}\n",
    "    )\n",
    "    trust_remote_code: bool = field(\n",
    "        default=False,\n",
    "        metadata={\n",
    "            \"help\": (\n",
    "                \"Whether or not to allow for custom dataset defined on the Hub in their own modeling files. This option\"\n",
    "                \"should only be set to `True` for repositories you trust and in which you have read the code, as it will \"\n",
    "                \"execute code present on the Hub on your local machine.\"\n",
    "            )\n",
    "        },\n",
    "    )\n",
    "    streaming: bool = field(default=False, metadata={\"help\": \"Enable streaming mode\"})\n",
    "    max_seq_length: Optional[int] = field(\n",
    "        default=None,\n",
    "        metadata={\n",
    "            \"help\": (\n",
    "                \"Optional input sequence length after tokenization. \"\n",
    "                \"The training dataset will be truncated in block of this size for training. \"\n",
    "                \"Default to the model max input length for single sentence inputs (take into account special tokens).\"\n",
    "            )\n",
    "        },\n",
    "    )\n",
    "    overwrite_cache: bool = field(\n",
    "        default=False, metadata={\"help\": \"Overwrite the cached training and evaluation sets\"}\n",
    "    )\n",
    "    dataset_percentage: Optional[int] = field(\n",
    "        default=100,\n",
    "        metadata={\n",
    "            \"help\": \"The percentage of the dataset used for computation\"\n",
    "        },  \n",
    "    )\n",
    "    validation_split_percentage: Optional[int] = field(\n",
    "        default=5,\n",
    "        metadata={\n",
    "            \"help\": \"The percentage of the train set used as validation set in case there's no validation split\"\n",
    "        },\n",
    "    )\n",
    "    preprocessing_num_workers: Optional[int] = field(\n",
    "        default=None,\n",
    "        metadata={\"help\": \"The number of processes to use for the preprocessing.\"},\n",
    "    )\n",
    "\n",
    "\n",
    "def encode_with_prompt_completion_format(example, tokenizer, max_seq_length):\n",
    "    '''\n",
    "    Here we assume each example has 'prompt' and 'completion' fields.\n",
    "    We concatenate prompt and completion and tokenize them together because otherwise prompt will be padded/trancated \n",
    "    and it doesn't make sense to follow directly with the completion.\n",
    "    '''\n",
    "    # if prompt doesn't end with space and completion doesn't start with space, add space\n",
    "    if not example['prompt'].endswith((' ', '\\n', '\\t')) and not example['completion'].startswith((' ', '\\n', '\\t')):\n",
    "        example_text = example['prompt'] + ' ' + example['completion']\n",
    "    else:\n",
    "        example_text = example['prompt'] + example['completion']\n",
    "    example_text = example_text + tokenizer.eos_token\n",
    "    tokenized_example = tokenizer(example_text, return_tensors='pt', max_length=max_seq_length, truncation=True)\n",
    "    input_ids = tokenized_example.input_ids\n",
    "    labels = input_ids.clone()\n",
    "    tokenized_prompt = tokenizer(example['prompt'], return_tensors='pt', max_length=max_seq_length, truncation=True)\n",
    "    # mask the prompt part for avoiding loss\n",
    "    labels[:, :tokenized_prompt.input_ids.shape[1]] = -100\n",
    "    attention_mask = torch.ones_like(input_ids)\n",
    "    return {\n",
    "        'input_ids': input_ids.flatten(),\n",
    "        'labels': labels.flatten(),\n",
    "        'attention_mask': attention_mask.flatten(),\n",
    "    }\n",
    "\n",
    "def encode_with_messages_format(example, tokenizer, max_seq_length):\n",
    "    '''\n",
    "    Here we assume each example has a 'messages' field Each message is a dict with 'role' and 'content' fields.\n",
    "    We concatenate all messages with the roles as delimiters and tokenize them together.\n",
    "    '''\n",
    "    messages = example['messages']\n",
    "    if len(messages) == 0:\n",
    "        raise ValueError('messages field is empty.')\n",
    "    \n",
    "    def _concat_messages(messages):\n",
    "        message_text = \"\"\n",
    "        for message in messages:\n",
    "            if message[\"role\"] == \"system\":\n",
    "                message_text += \"<|system|>\\n\" + message[\"content\"].strip() + \"\\n\"\n",
    "            elif message[\"role\"] == \"user\":\n",
    "                message_text += \"<|user|>\\n\" + message[\"content\"].strip() + \"\\n\"\n",
    "            elif message[\"role\"] == \"assistant\":\n",
    "                message_text += \"<|assistant|>\\n\" + message[\"content\"].strip() + tokenizer.eos_token + \"\\n\"\n",
    "            else:\n",
    "                raise ValueError(\"Invalid role: {}\".format(message[\"role\"]))\n",
    "        return message_text\n",
    "        \n",
    "    example_text = _concat_messages(messages).strip()\n",
    "    tokenized_example = tokenizer(example_text, return_tensors='pt', max_length=max_seq_length, truncation=True)\n",
    "    input_ids = tokenized_example.input_ids\n",
    "    labels = input_ids.clone()\n",
    "\n",
    "    # mask the non-assistant part for avoiding loss\n",
    "    for message_idx, message in enumerate(messages):\n",
    "        if message[\"role\"] != \"assistant\":\n",
    "            if message_idx == 0:\n",
    "                message_start_idx = 0\n",
    "            else:\n",
    "                message_start_idx = tokenizer(\n",
    "                    _concat_messages(messages[:message_idx]), return_tensors='pt', max_length=max_seq_length, truncation=True\n",
    "                ).input_ids.shape[1]\n",
    "            if message_idx < len(messages) - 1 and messages[message_idx+1][\"role\"] == \"assistant\":\n",
    "                # here we also ignore the role of the assistant\n",
    "                messages_so_far = _concat_messages(messages[:message_idx+1]) + \"<|assistant|>\\n\"\n",
    "            else:\n",
    "                messages_so_far = _concat_messages(messages[:message_idx+1])\n",
    "            message_end_idx = tokenizer(\n",
    "                messages_so_far,\n",
    "                return_tensors='pt', \n",
    "                max_length=max_seq_length, \n",
    "                truncation=True\n",
    "            ).input_ids.shape[1]\n",
    "            labels[:, message_start_idx:message_end_idx] = -100\n",
    "            \n",
    "            if message_end_idx >= max_seq_length:\n",
    "                break\n",
    "\n",
    "    attention_mask = torch.ones_like(input_ids)\n",
    "    return {\n",
    "        'input_ids': input_ids.flatten(),\n",
    "        'labels': labels.flatten(),\n",
    "        'attention_mask': attention_mask.flatten(),\n",
    "    }\n",
    "\n",
    "def load_hf_datasets(\n",
    "    data_args\n",
    "):\n",
    "    # Load the dataset\n",
    "    if data_args.dataset_name is not None:\n",
    "        # Downloading and loading a dataset from the hub.\n",
    "        raw_datasets = load_dataset(\n",
    "            data_args.dataset_name,\n",
    "            data_args.dataset_config_name,\n",
    "            streaming=data_args.streaming,\n",
    "            trust_remote_code=data_args.trust_remote_code\n",
    "        )\n",
    "\n",
    "        if \"validation\" not in raw_datasets.keys():\n",
    "            raw_datasets[\"validation\"] = load_dataset(\n",
    "                data_args.dataset_name,\n",
    "                data_args.dataset_config_name,\n",
    "                split=f\"train[:{data_args.validation_split_percentage}%]\",\n",
    "                streaming=data_args.streaming,\n",
    "                trust_remote_code=data_args.trust_remote_code\n",
    "            )\n",
    "            raw_datasets[\"train\"] = load_dataset(\n",
    "                data_args.dataset_name,\n",
    "                data_args.dataset_config_name,\n",
    "                split=f\"train[{data_args.validation_split_percentage}%:]\",\n",
    "                streaming=data_args.streaming,\n",
    "                trust_remote_code=data_args.trust_remote_code\n",
    "            )\n",
    "        \n",
    "        if data_args.dataset_percentage < 100:\n",
    "            dataset_frac = data_args.dataset_percentage/100\n",
    "            dataset_parts = raw_datasets['train'].train_test_split(train_size=dataset_frac)\n",
    "            raw_datasets['train'] = dataset_parts['train']\n",
    "            dataset_parts = raw_datasets['validation'].train_test_split(test_size=dataset_frac)\n",
    "            raw_datasets['validation'] = dataset_parts['test']\n",
    "\n",
    "        return raw_datasets\n",
    "\n",
    "def read_config(conf_path, func_name: str):\n",
    "    if isinstance(conf_path, str):\n",
    "        conf_path = Path(conf_path)\n",
    "\n",
    "    source = conf_path.read_text()\n",
    "    bytecode = compile(source, conf_path.as_posix(), \"exec\")\n",
    "    namespace = {\n",
    "        \"__file__\": conf_path.as_posix(),\n",
    "    }\n",
    "    exec(bytecode, namespace)\n",
    "    return namespace[func_name]()  # type: ignore"
   ]
  },
  {
   "cell_type": "code",
   "execution_count": 2,
   "metadata": {},
   "outputs": [
    {
     "name": "stdout",
     "output_type": "stream",
     "text": [
      "Memory info: \n",
      "(25214582784, 25388515328)\n",
      "Restricting the memory to 0.7612636100341251 of the total memory to have a limit of 18 (0.7612636100341251 x 23.6448974609375)\n"
     ]
    },
    {
     "name": "stderr",
     "output_type": "stream",
     "text": [
      "Loading checkpoint shards: 100%|██████████| 3/3 [00:03<00:00,  1.32s/it]\n"
     ]
    }
   ],
   "source": [
    "config_path = '/home/projects/LLM_compression_transformers/LLM_Compression/llm-tune/configs/llama_instruct.py'\n",
    "config = read_config(config_path, 'model_configs')\n",
    "\n",
    "config_dict = dict(config)\n",
    "config_dict['data'] = dict(config_dict['data'])\n",
    "config_dict['quant_noise_config'] = dict(config_dict['quant_noise_config'])\n",
    "config_dict['outliers'] = dict(config_dict['outliers'])\n",
    "config_dict['QuantizedLinear'] = dict(config_dict['QuantizedLinear'])\n",
    "config_dict['NoiseQuant'] = dict(config_dict['NoiseQuant'])\n",
    "config = config_dict\n",
    "\n",
    "data_args = DataTrainingArguments(\n",
    "    dataset_name = config['data']['dataset_name'],\n",
    "    dataset_config_name = config['data']['dataset_config_name'],\n",
    "    validation_split_percentage = config['data']['validation_split_percentage'],\n",
    "    max_seq_length = config['data']['max_seq_length'],\n",
    "    dataset_percentage = config['data']['dataset_percentage'],\n",
    "    trust_remote_code = config['data']['trust_remote_code'],\n",
    "    preprocessing_num_workers = config['data']['preprocessing_num_workers']\n",
    ")\n",
    "\n",
    "model_args = ModelArguments(\n",
    "    model_name_or_path = config['model_name_or_path'], #\"/home/projects/LLaMA/huggingface/Llama-2-7b-hf\",\n",
    "    config_name = config['model_config_name'], #\"/home/projects/LLaMA/huggingface/Llama-2-7b-hf/config.json\",\n",
    "    tokenizer_name = config['tokenizer_name'], #\"/home/projects/LLaMA/huggingface/Llama-2-7b-hf\",\n",
    "    use_fast_tokenizer = config['use_fast_tokenizer'],\n",
    "    token = config['token'], #None,\n",
    "    trust_remote_code = config['trust_remote_code'],\n",
    "    max_memory = config['max_memory'],\n",
    "    # cache_dir= config.cache_dir,\n",
    "    rank = config['lora_rank'],\n",
    "    lora_alpha = config['lora_alpha'],\n",
    "    # quant_noise_config = config['quant_noise_config']\n",
    ")\n",
    "\n",
    "training_args = TrainingArguments(\n",
    "    # run_name=config.run_name,\n",
    "    output_dir = config['output_dir'],\n",
    "    overwrite_output_dir = True,\n",
    "    learning_rate = config['learning_rate'], \n",
    "    seed = config['seed'], \n",
    "    max_steps = config['max_steps'],\n",
    "    # num_train_epochs = config.num_train_epochs, #3,\n",
    "    weight_decay = config['weight_decay'], #0.1,\n",
    "    warmup_ratio = config['warmup_ratio'],\n",
    "    lr_scheduler_type = config['lr_scheduler_type'],\n",
    "    per_device_train_batch_size = config['per_device_train_batch_size'], #2,\n",
    "    per_device_eval_batch_size = config['per_device_eval_batch_size'], #2,\n",
    "    gradient_accumulation_steps = config['gradient_accumulation_steps'], #16,\n",
    "    gradient_checkpointing=config['gradient_checkpointing'], #False,\n",
    "    save_strategy = config['save_strategy'],\n",
    "    save_steps = config['save_steps'],\n",
    "    # evaluation_strategy = config.evaluation_strategy,\n",
    "    # eval_steps = config.eval_steps,\n",
    "    logging_steps = 1,\n",
    "    do_train = True,\n",
    "    do_eval = True,\n",
    "    # report_to = config['report_to']\n",
    ")\n",
    "\n",
    "# If limit on cuda memory is specified enforce the limit\n",
    "if model_args.max_memory > 0:\n",
    "    mem_info = torch.cuda.mem_get_info()\n",
    "    print(\"Memory info: \\n{}\".format(mem_info))\n",
    "    # total_memory = mem_info[1] * 1e-9 # convert Bytes to GB\n",
    "    total_memory = torch.cuda.get_device_properties(0).total_memory  * 2**(-30) # convert Bytes to GB\n",
    "    if model_args.max_memory > total_memory:\n",
    "        raise ValueError(\"The specified memory limit {} is greater than the available memory {}.\".format(model_args.max_memory, total_memory))\n",
    "    else:\n",
    "        fraction = model_args.max_memory / total_memory\n",
    "        torch.cuda.set_per_process_memory_fraction(fraction)\n",
    "        print(\"Restricting the memory to {} of the total memory to have a limit of {} ({} x {})\".format(fraction, model_args.max_memory, fraction, total_memory))\n",
    "\n",
    "# Load pretrained tokenizer\n",
    "tokenizer_kwargs = {\n",
    "    \"cache_dir\": model_args.cache_dir,\n",
    "    \"use_fast\": model_args.use_fast_tokenizer,\n",
    "    \"revision\": model_args.model_revision,\n",
    "    \"token\": model_args.token,\n",
    "    \"trust_remote_code\": model_args.trust_remote_code,\n",
    "}\n",
    "\n",
    "if model_args.tokenizer_name:\n",
    "    tokenizer = AutoTokenizer.from_pretrained(model_args.tokenizer_name, **tokenizer_kwargs)\n",
    "elif model_args.model_name_or_path:\n",
    "    tokenizer = AutoTokenizer.from_pretrained(model_args.model_name_or_path, **tokenizer_kwargs)\n",
    "\n",
    "# Load pretrained model\n",
    "model = AutoModelForCausalLM.from_pretrained(\n",
    "    model_args.model_name_or_path,\n",
    "    torch_dtype=torch.bfloat16,\n",
    "    token=model_args.token,\n",
    "    device_map = 'auto'\n",
    ")"
   ]
  },
  {
   "cell_type": "code",
   "execution_count": null,
   "metadata": {},
   "outputs": [],
   "source": [
    "model.model.layers[0].self_attn.q_proj.add_quant_noise_predict"
   ]
  },
  {
   "cell_type": "code",
   "execution_count": null,
   "metadata": {},
   "outputs": [],
   "source": [
    "model.model.layers[0].self_attn.q_proj.quantizer.quant_scale.shape"
   ]
  },
  {
   "cell_type": "code",
   "execution_count": 3,
   "metadata": {},
   "outputs": [],
   "source": [
    "if config['QuantizedLinear']['replace']:\n",
    "    outliers_config= config['outliers']\n",
    "    outlier_ids, layer_bit = prepare_llama_quant(\n",
    "        outliers_config['path_to_act_scales'], \n",
    "        outliers_config['fp_features_num']\n",
    "    )\n",
    "\n",
    "    model.replace_Linear(\n",
    "        outlier_ids=outlier_ids,\n",
    "        training_mode=config['QuantizedLinear']['training_mode'] \n",
    "    )"
   ]
  },
  {
   "cell_type": "code",
   "execution_count": 9,
   "metadata": {},
   "outputs": [
    {
     "data": {
      "text/plain": [
       "Parameter containing:\n",
       "tensor([[-0.0062, -0.0148, -0.0022,  ...,  0.0045,  0.0017, -0.0036],\n",
       "        [ 0.0142, -0.0043,  0.0028,  ..., -0.0093, -0.0114,  0.0076],\n",
       "        [-0.0146,  0.0126,  0.0005,  ...,  0.0063,  0.0188, -0.0031],\n",
       "        ...,\n",
       "        [ 0.0013,  0.0109, -0.0003,  ...,  0.0098, -0.0298,  0.0097],\n",
       "        [ 0.0256,  0.0102,  0.0032,  ..., -0.0334, -0.0156, -0.0123],\n",
       "        [-0.0134, -0.0066,  0.0018,  ...,  0.0181,  0.0166, -0.0082]],\n",
       "       device='cuda:0', dtype=torch.bfloat16, requires_grad=True)"
      ]
     },
     "execution_count": 9,
     "metadata": {},
     "output_type": "execute_result"
    }
   ],
   "source": [
    "model.model.layers[0].self_attn.q_proj.weight"
   ]
  },
  {
   "cell_type": "code",
   "execution_count": 17,
   "metadata": {},
   "outputs": [
    {
     "data": {
      "text/plain": [
       "Parameter containing:\n",
       "tensor([[-0.0062, -0.0148, -0.0022,  ...,  0.0045,  0.0017, -0.0036],\n",
       "        [ 0.0142, -0.0043,  0.0028,  ..., -0.0093, -0.0114,  0.0076],\n",
       "        [-0.0146,  0.0126,  0.0005,  ...,  0.0063,  0.0188, -0.0031],\n",
       "        ...,\n",
       "        [ 0.0013,  0.0109, -0.0003,  ...,  0.0098, -0.0298,  0.0097],\n",
       "        [ 0.0256,  0.0102,  0.0032,  ..., -0.0334, -0.0156, -0.0123],\n",
       "        [-0.0134, -0.0066,  0.0018,  ...,  0.0181,  0.0166, -0.0082]],\n",
       "       device='cuda:0', dtype=torch.bfloat16, requires_grad=True)"
      ]
     },
     "execution_count": 17,
     "metadata": {},
     "output_type": "execute_result"
    }
   ],
   "source": [
    "#after train\n",
    "model.model.layers[0].self_attn.q_proj.weight"
   ]
  },
  {
   "cell_type": "code",
   "execution_count": 10,
   "metadata": {},
   "outputs": [
    {
     "data": {
      "text/plain": [
       "tensor([-0.0354, -0.0087,  0.0415,  ..., -0.0162,  0.1289, -0.0405],\n",
       "       device='cuda:0', dtype=torch.bfloat16, grad_fn=<SelectBackward0>)"
      ]
     },
     "execution_count": 10,
     "metadata": {},
     "output_type": "execute_result"
    }
   ],
   "source": [
    "model.model.layers[0].self_attn.q_proj.weight[:, 3190]"
   ]
  },
  {
   "cell_type": "code",
   "execution_count": 18,
   "metadata": {},
   "outputs": [
    {
     "data": {
      "text/plain": [
       "tensor([-0.0354, -0.0087,  0.0415,  ..., -0.0164,  0.1289, -0.0405],\n",
       "       device='cuda:0', dtype=torch.bfloat16, grad_fn=<SelectBackward0>)"
      ]
     },
     "execution_count": 18,
     "metadata": {},
     "output_type": "execute_result"
    }
   ],
   "source": [
    "#after train\n",
    "model.model.layers[0].self_attn.q_proj.weight[:, 3190]"
   ]
  },
  {
   "cell_type": "code",
   "execution_count": null,
   "metadata": {},
   "outputs": [],
   "source": [
    "if config['NoiseQuant']['add_quant_noise']:\n",
    "    noise_config = config['NoiseQuant']\n",
    "    outliers_config= config['outliers']\n",
    "    outlier_ids, layer_bit = prepare_llama_quant(\n",
    "        outliers_config['path_to_act_scales'], \n",
    "        outliers_config['fp_features_num'], \n",
    "        **noise_config['layer_bits']\n",
    "    )\n",
    "    model.add_quant_noise_to_weight( \n",
    "        layer_bit=layer_bit, \n",
    "        block_size=noise_config['block_size'],\n",
    "        fp_cols_num=outliers_config['fp_features_num'],\n",
    "        compute_scale=noise_config['compute_scale'], \n",
    "        quant_noise_predict=noise_config['predict']\n",
    "    )"
   ]
  },
  {
   "cell_type": "code",
   "execution_count": null,
   "metadata": {},
   "outputs": [],
   "source": [
    "model.save_pretrained('/home/projects/Quantization/weights_study/weights/llama-2-7b-wrand-4bit-each-iter')\n",
    "tokenizer.save_pretrained('/home/projects/Quantization/weights_study/weights/llama-2-7b-wrand-4bit-each-iter')"
   ]
  },
  {
   "cell_type": "code",
   "execution_count": null,
   "metadata": {},
   "outputs": [],
   "source": [
    "model.model.layers[0].self_attn.q_proj"
   ]
  },
  {
   "cell_type": "code",
   "execution_count": null,
   "metadata": {},
   "outputs": [],
   "source": [
    "model"
   ]
  },
  {
   "cell_type": "code",
   "execution_count": null,
   "metadata": {},
   "outputs": [],
   "source": [
    "model.model.layers[0].self_attn.q_proj.quantizer.quant_scale"
   ]
  },
  {
   "cell_type": "code",
   "execution_count": null,
   "metadata": {},
   "outputs": [],
   "source": [
    "model.model.layers[0].self_attn.q_proj.mask"
   ]
  },
  {
   "cell_type": "code",
   "execution_count": null,
   "metadata": {},
   "outputs": [],
   "source": [
    "# if config['change_training_mode']:\n",
    "#     outliers_config= config['outliers']\n",
    "#     outlier_ids, _ = prepare_llama_quant(\n",
    "#         outliers_config['path_to_act_scales'], \n",
    "#         outliers_config['fp_features_num']\n",
    "#     )\n",
    "#     training_mode = config['change_training_mode']\n",
    "#     model.change_training_mode(outlier_ids, training_mode)"
   ]
  },
  {
   "cell_type": "code",
   "execution_count": null,
   "metadata": {},
   "outputs": [],
   "source": []
  },
  {
   "cell_type": "code",
   "execution_count": 11,
   "metadata": {},
   "outputs": [
    {
     "name": "stdout",
     "output_type": "stream",
     "text": [
      "32001 32000\n"
     ]
    },
    {
     "name": "stderr",
     "output_type": "stream",
     "text": [
      "Tokenizing and reformatting instruction data (num_proc=8): 100%|██████████| 30984/30984 [00:24<00:00, 1248.25 examples/s]\n",
      "Tokenizing and reformatting instruction data (num_proc=8): 100%|██████████| 1631/1631 [00:01<00:00, 1010.81 examples/s]\n",
      "Filter: 100%|██████████| 30984/30984 [00:02<00:00, 14390.40 examples/s]\n",
      "Filter: 100%|██████████| 1631/1631 [00:00<00:00, 13668.15 examples/s]\n"
     ]
    }
   ],
   "source": [
    "#Load and preprocessing dataset\n",
    "\n",
    "# no default pad token for llama!\n",
    "# here we add all special tokens again, because the default ones are not in the special_tokens_map\n",
    "if isinstance(tokenizer, LlamaTokenizer) or isinstance(tokenizer, LlamaTokenizerFast):\n",
    "    num_added_tokens = tokenizer.add_special_tokens({\n",
    "        \"bos_token\": \"<s>\",\n",
    "        \"eos_token\": \"</s>\",\n",
    "        \"unk_token\": \"<unk>\",\n",
    "        \"pad_token\": \"<pad>\",\n",
    "    })\n",
    "    assert num_added_tokens in [0, 1], \"LlamaTokenizer should only add one special token - the pad_token, or no tokens if pad token present.\"\n",
    "\n",
    "# We resize the embeddings only when necessary to avoid index errors. If you are creating a model from scratch\n",
    "# on a small vocab and want a smaller embedding size, remove this test.\n",
    "embedding_size = model.get_input_embeddings().weight.shape[0]\n",
    "if len(tokenizer) > embedding_size:\n",
    "    model.resize_token_embeddings(len(tokenizer))\n",
    "\n",
    "print(len(tokenizer), embedding_size)\n",
    "\n",
    "raw_datasets = load_hf_datasets(data_args)\n",
    "\n",
    "# Preprocessing the datasets.\n",
    "if \"prompt\" in raw_datasets[\"train\"].column_names and \"completion\" in raw_datasets[\"train\"].column_names:\n",
    "    encode_function = partial(\n",
    "        encode_with_prompt_completion_format,\n",
    "        tokenizer=tokenizer,\n",
    "        max_seq_length=data_args.max_seq_length,\n",
    "    )\n",
    "elif \"messages\" in raw_datasets[\"train\"].column_names:\n",
    "    encode_function = partial(\n",
    "        encode_with_messages_format,\n",
    "        tokenizer=tokenizer,\n",
    "        max_seq_length=data_args.max_seq_length,\n",
    "    )\n",
    "\n",
    "lm_datasets = raw_datasets.map(\n",
    "    encode_function,\n",
    "    batched=False,\n",
    "    num_proc=data_args.preprocessing_num_workers,\n",
    "    remove_columns=[name for name in raw_datasets[\"train\"].column_names if name not in [\"input_ids\", \"labels\", \"attention_mask\"]],\n",
    "    desc=\"Tokenizing and reformatting instruction data\",\n",
    ")\n",
    "\n",
    "lm_datasets.set_format(type=\"pt\")\n",
    "lm_datasets = lm_datasets.filter(lambda example: (example['labels'] != -100).any())\n",
    "\n",
    "train_dataset = lm_datasets[\"train\"]\n",
    "eval_dataset = lm_datasets[\"validation\"]"
   ]
  },
  {
   "cell_type": "code",
   "execution_count": 12,
   "metadata": {},
   "outputs": [],
   "source": [
    "for name, param in model.named_parameters():\n",
    "    param.requires_grad = False"
   ]
  },
  {
   "cell_type": "code",
   "execution_count": 13,
   "metadata": {},
   "outputs": [],
   "source": [
    "for name, param in model.named_parameters():\n",
    "    name = name.replace('.weight', '')\n",
    "    if name.find('model.layers.0.self_attn.q_proj') != -1:\n",
    "    # if name.find('model.layers.0.mlp.up_proj') != -1:\n",
    "        param.requires_grad_()"
   ]
  },
  {
   "cell_type": "code",
   "execution_count": 14,
   "metadata": {},
   "outputs": [
    {
     "name": "stdout",
     "output_type": "stream",
     "text": [
      "trainable_params: 16777216\n"
     ]
    }
   ],
   "source": [
    "trainable_params = 0\n",
    "all_param = 0\n",
    "for _, param in model.named_parameters():\n",
    "    all_param += param.numel()\n",
    "    if param.requires_grad:\n",
    "        trainable_params += param.numel()\n",
    "\n",
    "print(f\"trainable_params: {trainable_params}\")"
   ]
  },
  {
   "cell_type": "code",
   "execution_count": 15,
   "metadata": {},
   "outputs": [],
   "source": [
    "# Initialize our Trainer\n",
    "trainer = Trainer(\n",
    "    model=model,\n",
    "    args=training_args,\n",
    "    train_dataset=train_dataset,\n",
    "    eval_dataset=eval_dataset,\n",
    "    tokenizer=tokenizer,\n",
    "    # Data collator will default to DataCollatorWithPadding, so we change it.\n",
    "    data_collator=DataCollatorForSeq2Seq(tokenizer=tokenizer, model=model, padding=\"longest\")\n",
    ")"
   ]
  },
  {
   "cell_type": "code",
   "execution_count": 16,
   "metadata": {},
   "outputs": [
    {
     "name": "stderr",
     "output_type": "stream",
     "text": [
      "Failed to detect the name of this notebook, you can set it manually with the WANDB_NOTEBOOK_NAME environment variable to enable code saving.\n",
      "\u001b[34m\u001b[1mwandb\u001b[0m: Currently logged in as: \u001b[33mzhelninmax\u001b[0m. Use \u001b[1m`wandb login --relogin`\u001b[0m to force relogin\n"
     ]
    },
    {
     "data": {
      "text/html": [
       "Tracking run with wandb version 0.16.3"
      ],
      "text/plain": [
       "<IPython.core.display.HTML object>"
      ]
     },
     "metadata": {},
     "output_type": "display_data"
    },
    {
     "data": {
      "text/html": [
       "Run data is saved locally in <code>/home/projects/LLM_compression_transformers/LLM_Compression/llm-tune/wandb/run-20240221_063219-6vmtpxvd</code>"
      ],
      "text/plain": [
       "<IPython.core.display.HTML object>"
      ]
     },
     "metadata": {},
     "output_type": "display_data"
    },
    {
     "data": {
      "text/html": [
       "Syncing run <strong><a href='https://wandb.ai/zhelninmax/huggingface/runs/6vmtpxvd' target=\"_blank\">crimson-kumquat-101</a></strong> to <a href='https://wandb.ai/zhelninmax/huggingface' target=\"_blank\">Weights & Biases</a> (<a href='https://wandb.me/run' target=\"_blank\">docs</a>)<br/>"
      ],
      "text/plain": [
       "<IPython.core.display.HTML object>"
      ]
     },
     "metadata": {},
     "output_type": "display_data"
    },
    {
     "data": {
      "text/html": [
       " View project at <a href='https://wandb.ai/zhelninmax/huggingface' target=\"_blank\">https://wandb.ai/zhelninmax/huggingface</a>"
      ],
      "text/plain": [
       "<IPython.core.display.HTML object>"
      ]
     },
     "metadata": {},
     "output_type": "display_data"
    },
    {
     "data": {
      "text/html": [
       " View run at <a href='https://wandb.ai/zhelninmax/huggingface/runs/6vmtpxvd' target=\"_blank\">https://wandb.ai/zhelninmax/huggingface/runs/6vmtpxvd</a>"
      ],
      "text/plain": [
       "<IPython.core.display.HTML object>"
      ]
     },
     "metadata": {},
     "output_type": "display_data"
    },
    {
     "data": {
      "text/html": [
       "\n",
       "    <div>\n",
       "      \n",
       "      <progress value='2' max='2' style='width:300px; height:20px; vertical-align: middle;'></progress>\n",
       "      [2/2 04:19, Epoch 0/1]\n",
       "    </div>\n",
       "    <table border=\"1\" class=\"dataframe\">\n",
       "  <thead>\n",
       " <tr style=\"text-align: left;\">\n",
       "      <th>Step</th>\n",
       "      <th>Training Loss</th>\n",
       "    </tr>\n",
       "  </thead>\n",
       "  <tbody>\n",
       "    <tr>\n",
       "      <td>1</td>\n",
       "      <td>1.375500</td>\n",
       "    </tr>\n",
       "    <tr>\n",
       "      <td>2</td>\n",
       "      <td>1.720500</td>\n",
       "    </tr>\n",
       "  </tbody>\n",
       "</table><p>"
      ],
      "text/plain": [
       "<IPython.core.display.HTML object>"
      ]
     },
     "metadata": {},
     "output_type": "display_data"
    }
   ],
   "source": [
    "train_result = trainer.train()"
   ]
  },
  {
   "cell_type": "code",
   "execution_count": null,
   "metadata": {},
   "outputs": [],
   "source": []
  }
 ],
 "metadata": {
  "kernelspec": {
   "display_name": "base",
   "language": "python",
   "name": "python3"
  },
  "language_info": {
   "codemirror_mode": {
    "name": "ipython",
    "version": 3
   },
   "file_extension": ".py",
   "mimetype": "text/x-python",
   "name": "python",
   "nbconvert_exporter": "python",
   "pygments_lexer": "ipython3",
   "version": "3.10.13"
  }
 },
 "nbformat": 4,
 "nbformat_minor": 2
}
